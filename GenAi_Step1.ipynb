{
  "nbformat": 4,
  "nbformat_minor": 0,
  "metadata": {
    "colab": {
      "provenance": []
    },
    "kernelspec": {
      "name": "python3",
      "display_name": "Python 3"
    },
    "language_info": {
      "name": "python"
    }
  },
  "cells": [
    {
      "cell_type": "code",
      "execution_count": 1,
      "metadata": {
        "id": "Ty-nkjW_IQfB"
      },
      "outputs": [],
      "source": [
        "import numpy as np\n",
        "import pandas as pd"
      ]
    },
    {
      "cell_type": "code",
      "source": [
        "import pandas as pd\n",
        "\n",
        "# Load the dataset\n",
        "file_path = '/content/sample_data/Auto_Regressive.xlsx'\n",
        "data = pd.read_excel(file_path)\n",
        "\n",
        "# Initialize an empty dictionary to store symptoms and their unique values\n",
        "symptom_dict = {}\n",
        "\n",
        "# Iterate over each symptom column in the dataset\n",
        "for column in data.columns:\n",
        "    # Get unique values for the column, ignoring NaN\n",
        "    unique_values = data[column].dropna().unique()\n",
        "\n",
        "    # Store them in the dictionary with the symptom as the key\n",
        "    symptom_dict[column] = sorted(unique_values.tolist())\n",
        "\n",
        "# Display the unique symptoms and their values\n",
        "print(\"Unique Symptoms and their Values:\")\n",
        "for symptom, values in symptom_dict.items():\n",
        "    print(f\"{symptom}: {values}\")\n"
      ],
      "metadata": {
        "colab": {
          "base_uri": "https://localhost:8080/"
        },
        "id": "wPjYKxzmJRby",
        "outputId": "a0d809fc-aaf3-4e8c-df22-e2b1646a0adb"
      },
      "execution_count": 25,
      "outputs": [
        {
          "output_type": "stream",
          "name": "stdout",
          "text": [
            "Unique Symptoms and their Values:\n",
            "SrNo: [1.0, 2.0, 3.0, 4.0, 5.0, 6.0, 7.0, 8.0, 9.0, 10.0]\n",
            "Patient_Id: [1.0, 2.0, 3.0, 4.0, 5.0, 6.0, 7.0, 8.0, 9.0, 10.0]\n",
            "Symptoms - 1: ['Fever', 'Mild', 'Y']\n",
            "Unnamed: 3: ['Low', 'N']\n",
            "Unnamed: 4: ['High', 'N']\n",
            "DOB: []\n",
            "Symptoms - 2: ['Cough', 'Mild', 'N']\n",
            "Unnamed: 7: ['Low', 'Y']\n",
            "Unnamed: 8: ['High', 'Y0']\n",
            "Symptoms - 3: ['Cold', 'Mild', 'N']\n",
            "Unnamed: 10: ['Low', 'N']\n",
            "Unnamed: 11: ['High', 'Y']\n",
            "Other Symptoms: ['Body Ache', 'Head Ache', 'Nausia', 'Shivering', 'Sickness', 'Text', 'Vertigo', 'Vertigo, Nausia']\n",
            "Unnamed: 13: []\n",
            "Unnamed: 14: []\n",
            "Parser : ['Create ']\n",
            "Unnamed: 16: ['Create a Dictionary ', 'Data Set Dictionary for Symptoms', 'Read Data Set ', '{', '}']\n",
            "Unnamed: 17: ['S1 : { Fever:mild,Fever:low,Fever:High}', 'S2 : {Cough:mild,Cough:low,Cough:High}', 'S3 : {Cold:mild,Cold:low:Cold:High}']\n"
          ]
        }
      ]
    }
  ]
}